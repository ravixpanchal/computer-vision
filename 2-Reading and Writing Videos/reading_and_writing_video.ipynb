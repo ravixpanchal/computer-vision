{
 "cells": [
  {
   "cell_type": "code",
   "execution_count": 2,
   "id": "53dee075",
   "metadata": {},
   "outputs": [],
   "source": [
    "import cv2"
   ]
  },
  {
   "cell_type": "code",
   "execution_count": 3,
   "id": "f50ca463",
   "metadata": {},
   "outputs": [],
   "source": [
    "#load the video\n",
    "video=cv2.VideoCapture(\"../Images/mountain.mp4\")"
   ]
  },
  {
   "cell_type": "code",
   "execution_count": 5,
   "id": "748457f4",
   "metadata": {},
   "outputs": [],
   "source": [
    "#display the video\n",
    "while True:\n",
    "    ret,frame=video.read()\n",
    "    if not ret:\n",
    "        break\n",
    "    cv2.imshow(\"Video Frame\",frame)\n",
    "    if cv2.waitKey(1) & 0xFF==ord('q'):\n",
    "        break\n",
    "video.release()\n",
    "cv2.destroyAllWindows()"
   ]
  },
  {
   "cell_type": "code",
   "execution_count": 6,
   "id": "af9b6945",
   "metadata": {},
   "outputs": [
    {
     "name": "stderr",
     "output_type": "stream",
     "text": [
      "<>:2: SyntaxWarning: invalid escape sequence '\\S'\n",
      "<>:2: SyntaxWarning: invalid escape sequence '\\S'\n",
      "C:\\Users\\babaj\\AppData\\Local\\Temp\\ipykernel_18144\\1181978516.py:2: SyntaxWarning: invalid escape sequence '\\S'\n",
      "  video=cv2.VideoCapture(\"C:\\Study Materials\\Coding Journey\\Open CV\\Reading and Writing Videos\\mountain.mp4\")\n"
     ]
    }
   ],
   "source": [
    "#Write a video\n",
    "video=cv2.VideoCapture(\"C:\\Study Materials\\Coding Journey\\Open CV\\Reading and Writing Videos\\mountain.mp4\")\n",
    "fourcc=cv2.VideoWriter_fourcc(*\"mp4v\")\n",
    "width=int(video.get(cv2.CAP_PROP_FRAME_WIDTH))\n",
    "height=int(video.get(cv2.CAP_PROP_FRAME_HEIGHT))\n",
    "out=cv2.VideoWriter(\"./output.mp4\",fourcc,30,(width,height))\n",
    "while True:\n",
    "    ret,frame=video.read()\n",
    "    if not ret:\n",
    "        break\n",
    "    frame=frame+20\n",
    "    out.write(frame)\n",
    "out.release()\n",
    "video.release()\n",
    "cv2.destroyAllWindows()"
   ]
  },
  {
   "cell_type": "code",
   "execution_count": null,
   "id": "b83face0",
   "metadata": {},
   "outputs": [],
   "source": []
  }
 ],
 "metadata": {
  "kernelspec": {
   "display_name": "myenv",
   "language": "python",
   "name": "python3"
  },
  "language_info": {
   "codemirror_mode": {
    "name": "ipython",
    "version": 3
   },
   "file_extension": ".py",
   "mimetype": "text/x-python",
   "name": "python",
   "nbconvert_exporter": "python",
   "pygments_lexer": "ipython3",
   "version": "3.13.1"
  }
 },
 "nbformat": 4,
 "nbformat_minor": 5
}
