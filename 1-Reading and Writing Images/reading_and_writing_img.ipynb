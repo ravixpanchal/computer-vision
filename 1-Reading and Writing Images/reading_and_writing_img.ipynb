{
 "cells": [
  {
   "cell_type": "code",
   "execution_count": 1,
   "id": "fe2d11b9",
   "metadata": {},
   "outputs": [],
   "source": [
    "import cv2"
   ]
  },
  {
   "cell_type": "code",
   "execution_count": 2,
   "id": "5b0d12dd",
   "metadata": {},
   "outputs": [],
   "source": [
    "#Read The Image\n",
    "image=cv2.imread(\"C:\\Study Materials\\Coding Journey\\Open CV\\Reading and Writing Images\\mountain.jpg\")"
   ]
  },
  {
   "cell_type": "code",
   "execution_count": 3,
   "id": "f7c3a1f3",
   "metadata": {},
   "outputs": [
    {
     "name": "stdout",
     "output_type": "stream",
     "text": [
      "Image loaded successfully.\n"
     ]
    }
   ],
   "source": [
    "#check if the image loaded successfully\n",
    "if image is None:\n",
    "    print(\"Error: Could not load the image.\")\n",
    "else:\n",
    "    print(\"Image loaded successfully.\")"
   ]
  },
  {
   "cell_type": "code",
   "execution_count": 6,
   "id": "7dfb8ae5",
   "metadata": {},
   "outputs": [],
   "source": [
    "#display the window\n",
    "cv2.imshow(\"Image Window\",image)\n",
    "cv2.waitKey(0)\n",
    "cv2.destroyAllWindows()"
   ]
  },
  {
   "cell_type": "code",
   "execution_count": 7,
   "id": "19d5dd3f",
   "metadata": {},
   "outputs": [],
   "source": [
    "#write the image\n",
    "new_image=image+40"
   ]
  },
  {
   "cell_type": "code",
   "execution_count": 9,
   "id": "182eb86d",
   "metadata": {},
   "outputs": [
    {
     "data": {
      "text/plain": [
       "True"
      ]
     },
     "execution_count": 9,
     "metadata": {},
     "output_type": "execute_result"
    }
   ],
   "source": [
    "cv2.imwrite(\"./output.jpg\",new_image)"
   ]
  },
  {
   "cell_type": "code",
   "execution_count": null,
   "id": "dd5ed046",
   "metadata": {},
   "outputs": [],
   "source": []
  }
 ],
 "metadata": {
  "kernelspec": {
   "display_name": "base",
   "language": "python",
   "name": "python3"
  },
  "language_info": {
   "codemirror_mode": {
    "name": "ipython",
    "version": 3
   },
   "file_extension": ".py",
   "mimetype": "text/x-python",
   "name": "python",
   "nbconvert_exporter": "python",
   "pygments_lexer": "ipython3",
   "version": "3.13.5"
  }
 },
 "nbformat": 4,
 "nbformat_minor": 5
}
