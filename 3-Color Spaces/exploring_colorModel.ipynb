{
 "cells": [
  {
   "cell_type": "code",
   "execution_count": 2,
   "id": "dcfc3565",
   "metadata": {},
   "outputs": [],
   "source": [
    "import cv2"
   ]
  },
  {
   "cell_type": "code",
   "execution_count": 3,
   "id": "9cc82553",
   "metadata": {},
   "outputs": [
    {
     "name": "stderr",
     "output_type": "stream",
     "text": [
      "<>:1: SyntaxWarning: invalid escape sequence '\\I'\n",
      "<>:1: SyntaxWarning: invalid escape sequence '\\I'\n",
      "C:\\Users\\babaj\\AppData\\Local\\Temp\\ipykernel_23928\\1528712780.py:1: SyntaxWarning: invalid escape sequence '\\I'\n",
      "  bgr_image=cv2.imread(\"..\\Images\\mountain.jpg\")\n"
     ]
    }
   ],
   "source": [
    "bgr_image=cv2.imread(\"..\\Images\\mountain.jpg\")"
   ]
  },
  {
   "cell_type": "code",
   "execution_count": 4,
   "id": "12ee121a",
   "metadata": {},
   "outputs": [
    {
     "data": {
      "text/plain": [
       "True"
      ]
     },
     "execution_count": 4,
     "metadata": {},
     "output_type": "execute_result"
    }
   ],
   "source": [
    "#convert to greyScale image\n",
    "gray_image=cv2.cvtColor(bgr_image,cv2.COLOR_BGR2GRAY)\n",
    "cv2.imwrite(\"./gray_image.jpg\",gray_image)"
   ]
  },
  {
   "cell_type": "code",
   "execution_count": 6,
   "id": "66c6200a",
   "metadata": {},
   "outputs": [
    {
     "data": {
      "text/plain": [
       "True"
      ]
     },
     "execution_count": 6,
     "metadata": {},
     "output_type": "execute_result"
    }
   ],
   "source": [
    "#convert to HSV\n",
    "hsv_image=cv2.cvtColor(bgr_image,cv2.COLOR_BGR2HSV)\n",
    "cv2.imwrite(\"./hsv_image.jpg\",hsv_image)"
   ]
  },
  {
   "cell_type": "code",
   "execution_count": 7,
   "id": "46d5d389",
   "metadata": {},
   "outputs": [
    {
     "data": {
      "text/plain": [
       "True"
      ]
     },
     "execution_count": 7,
     "metadata": {},
     "output_type": "execute_result"
    }
   ],
   "source": [
    "#convert to LAB\n",
    "lab_image=cv2.cvtColor(bgr_image,cv2.COLOR_BGR2LAB)\n",
    "cv2.imwrite(\"./lab_image.jpg\",lab_image)"
   ]
  },
  {
   "cell_type": "code",
   "execution_count": 8,
   "id": "2552299f",
   "metadata": {},
   "outputs": [
    {
     "data": {
      "text/plain": [
       "True"
      ]
     },
     "execution_count": 8,
     "metadata": {},
     "output_type": "execute_result"
    }
   ],
   "source": [
    "#convert to RGB\n",
    "rgb_image=cv2.cvtColor(bgr_image,cv2.COLOR_BGR2RGB)\n",
    "cv2.imwrite(\"./rgb_image.jpg\",rgb_image)\n"
   ]
  },
  {
   "cell_type": "code",
   "execution_count": 9,
   "id": "54ad9e67",
   "metadata": {},
   "outputs": [
    {
     "data": {
      "text/plain": [
       "True"
      ]
     },
     "execution_count": 9,
     "metadata": {},
     "output_type": "execute_result"
    }
   ],
   "source": [
    "#convert to BGR\n",
    "cv2.imwrite(\"./bgr_image.jpg\",bgr_image)"
   ]
  },
  {
   "cell_type": "code",
   "execution_count": null,
   "id": "cb20a32c",
   "metadata": {},
   "outputs": [],
   "source": []
  }
 ],
 "metadata": {
  "kernelspec": {
   "display_name": "myenv",
   "language": "python",
   "name": "python3"
  },
  "language_info": {
   "codemirror_mode": {
    "name": "ipython",
    "version": 3
   },
   "file_extension": ".py",
   "mimetype": "text/x-python",
   "name": "python",
   "nbconvert_exporter": "python",
   "pygments_lexer": "ipython3",
   "version": "3.13.1"
  }
 },
 "nbformat": 4,
 "nbformat_minor": 5
}
